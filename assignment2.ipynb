{
 "cells": [
  {
   "cell_type": "code",
   "execution_count": 4,
   "metadata": {},
   "outputs": [
    {
     "name": "stdout",
     "output_type": "stream",
     "text": [
      "Enter your marks obtained in english:80\n",
      "enter your marks obtained in mathematics:96\n",
      "Enter your marks obtained in Physics:98\n",
      "Enter your marks obtained in chemistry:84\n",
      "Enter your marks obtained in urdu:80\n",
      "Marks obtained:438\n",
      "Your percentage is:87\n",
      "Grade:A+\n"
     ]
    }
   ],
   "source": [
    "#Marksheet\n",
    "eng=input(\"Enter your marks obtained in english:\")\n",
    "maths=input(\"enter your marks obtained in mathematics:\")\n",
    "phy=input(\"Enter your marks obtained in Physics:\")\n",
    "chem=input(\"Enter your marks obtained in chemistry:\")\n",
    "urdu=input(\"Enter your marks obtained in urdu:\")\n",
    "Total=int(eng)+int(maths)+int(phy)+int(chem)+int(urdu)\n",
    "print(\"Marks obtained:%d\"%Total)\n",
    "per=(Total/500)*100\n",
    "print(\"Your percentage is:%d\"%per)\n",
    "if per>=80 and per<=100:\n",
    "    print(\"Grade:A+\")\n",
    "elif per>=70 and per<80:\n",
    "    print(\"Grade:A\")\n",
    "elif per>=60 and per<70:\n",
    "    print(\"Grade:B\")\n",
    "elif per>=50 and per<60:\n",
    "    print(\"Grade:C\")\n",
    "elif per>=40 and per<50:\n",
    "    print(\"Grade:D\")\n",
    "elif per>33 and per<40:\n",
    "    print(\"Grade:E\")\n",
    "elif per<30 and per>=0:\n",
    "    print(\"Grade: Fail\")\n",
    "else:\n",
    "    print(\" Calculated Percentage is inapproperiate\")\n"
   ]
  },
  {
   "cell_type": "code",
   "execution_count": 15,
   "metadata": {},
   "outputs": [
    {
     "name": "stdout",
     "output_type": "stream",
     "text": [
      "Enter number:7\n",
      "Entered number is odd!\n"
     ]
    }
   ],
   "source": [
    "#Identify the number is even or odd\n",
    "num=int(input(\"Enter number:\"))\n",
    "mod=num%2\n",
    "if mod>0:\n",
    "    print(\"Entered number is odd!\")\n",
    "else:\n",
    "    print(\"Entered number is enen!\")\n"
   ]
  },
  {
   "cell_type": "code",
   "execution_count": 17,
   "metadata": {},
   "outputs": [
    {
     "name": "stdout",
     "output_type": "stream",
     "text": [
      "The length of list is: 5\n"
     ]
    }
   ],
   "source": [
    "#Program to calculate length of list\n",
    "a=len([1,2,3,4,5])\n",
    "print(\"The length of list is:\",a)"
   ]
  },
  {
   "cell_type": "code",
   "execution_count": 18,
   "metadata": {},
   "outputs": [
    {
     "name": "stdout",
     "output_type": "stream",
     "text": [
      "Sum of all numbers in given list=  231\n"
     ]
    }
   ],
   "source": [
    "#Program to find sum of numbers in list\n",
    "total=0\n",
    "n=0\n",
    "list1=[11,22,33,44,55,66]\n",
    "while(n<len(list1)):\n",
    "    total=total+list1[n]\n",
    "    n+=1\n",
    "print(\"Sum of all numbers in given list= \",total)    "
   ]
  },
  {
   "cell_type": "code",
   "execution_count": 19,
   "metadata": {},
   "outputs": [
    {
     "name": "stdout",
     "output_type": "stream",
     "text": [
      "Largest number is:  564\n"
     ]
    }
   ],
   "source": [
    "#Get the largest number from numeric list\n",
    "list1=[22,99,88,564]\n",
    "print(\"Largest number is: \",max(list1))"
   ]
  },
  {
   "cell_type": "code",
   "execution_count": 33,
   "metadata": {},
   "outputs": [
    {
     "name": "stdout",
     "output_type": "stream",
     "text": [
      "1\n",
      "1\n",
      "2\n",
      "3\n"
     ]
    }
   ],
   "source": [
    "a=[1,1,2,3,48,13,21,34,55,89]\n",
    "def print_less_than_five():\n",
    "    for i in range(len(a)):\n",
    "        if a[i]<5:\n",
    "            print(a[i])\n",
    "print_less_than_five()            "
   ]
  }
 ],
 "metadata": {
  "kernelspec": {
   "display_name": "Python 3",
   "language": "python",
   "name": "python3"
  },
  "language_info": {
   "codemirror_mode": {
    "name": "ipython",
    "version": 3
   },
   "file_extension": ".py",
   "mimetype": "text/x-python",
   "name": "python",
   "nbconvert_exporter": "python",
   "pygments_lexer": "ipython3",
   "version": "3.7.4"
  }
 },
 "nbformat": 4,
 "nbformat_minor": 2
}
